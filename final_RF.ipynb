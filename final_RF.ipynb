{
 "cells": [
  {
   "cell_type": "markdown",
   "id": "de47be75",
   "metadata": {},
   "source": [
    "# Importing Libraries"
   ]
  },
  {
   "cell_type": "code",
   "execution_count": 44,
   "id": "c13e4929",
   "metadata": {},
   "outputs": [],
   "source": [
    "import numpy as np\n",
    "import pandas as pd\n",
    "import seaborn as sns\n",
    "import matplotlib.pyplot as plt\n",
    "\n",
    "from sklearn.svm import SVC\n",
    "from xgboost import XGBClassifier\n",
    "from sklearn.ensemble import VotingClassifier\n",
    "from sklearn.model_selection import GridSearchCV\n",
    "from sklearn.neighbors import KNeighborsClassifier\n",
    "from sklearn.ensemble import RandomForestClassifier\n",
    "from sklearn.linear_model import LogisticRegression\n",
    "from sklearn.model_selection import train_test_split\n",
    "from sklearn.model_selection import RandomizedSearchCV\n",
    "from sklearn.preprocessing import LabelEncoder, OneHotEncoder, StandardScaler\n",
    "from sklearn.metrics import confusion_matrix, classification_report, accuracy_score\n",
    "from sklearn.ensemble import GradientBoostingClassifier\n",
    "sgb = GradientBoostingClassifier(subsample = 0.90, max_features = 0.70)"
   ]
  },
  {
   "cell_type": "code",
   "execution_count": 2,
   "id": "d822e335",
   "metadata": {},
   "outputs": [],
   "source": [
    "path='~/kaggle/titanic/'"
   ]
  },
  {
   "cell_type": "markdown",
   "id": "264d5260",
   "metadata": {},
   "source": [
    "# Opening csv files as DataFrame"
   ]
  },
  {
   "cell_type": "code",
   "execution_count": 58,
   "id": "aefa963f",
   "metadata": {},
   "outputs": [
    {
     "data": {
      "text/html": [
       "<div>\n",
       "<style scoped>\n",
       "    .dataframe tbody tr th:only-of-type {\n",
       "        vertical-align: middle;\n",
       "    }\n",
       "\n",
       "    .dataframe tbody tr th {\n",
       "        vertical-align: top;\n",
       "    }\n",
       "\n",
       "    .dataframe thead th {\n",
       "        text-align: right;\n",
       "    }\n",
       "</style>\n",
       "<table border=\"1\" class=\"dataframe\">\n",
       "  <thead>\n",
       "    <tr style=\"text-align: right;\">\n",
       "      <th></th>\n",
       "      <th>PassengerId</th>\n",
       "      <th>Survived</th>\n",
       "      <th>Pclass</th>\n",
       "      <th>Age</th>\n",
       "      <th>SibSp</th>\n",
       "      <th>Parch</th>\n",
       "      <th>Fare</th>\n",
       "    </tr>\n",
       "  </thead>\n",
       "  <tbody>\n",
       "    <tr>\n",
       "      <th>count</th>\n",
       "      <td>891.000000</td>\n",
       "      <td>891.000000</td>\n",
       "      <td>891.000000</td>\n",
       "      <td>714.000000</td>\n",
       "      <td>891.000000</td>\n",
       "      <td>891.000000</td>\n",
       "      <td>891.000000</td>\n",
       "    </tr>\n",
       "    <tr>\n",
       "      <th>mean</th>\n",
       "      <td>446.000000</td>\n",
       "      <td>0.383838</td>\n",
       "      <td>2.308642</td>\n",
       "      <td>29.699118</td>\n",
       "      <td>0.523008</td>\n",
       "      <td>0.381594</td>\n",
       "      <td>32.204208</td>\n",
       "    </tr>\n",
       "    <tr>\n",
       "      <th>std</th>\n",
       "      <td>257.353842</td>\n",
       "      <td>0.486592</td>\n",
       "      <td>0.836071</td>\n",
       "      <td>14.526497</td>\n",
       "      <td>1.102743</td>\n",
       "      <td>0.806057</td>\n",
       "      <td>49.693429</td>\n",
       "    </tr>\n",
       "    <tr>\n",
       "      <th>min</th>\n",
       "      <td>1.000000</td>\n",
       "      <td>0.000000</td>\n",
       "      <td>1.000000</td>\n",
       "      <td>0.420000</td>\n",
       "      <td>0.000000</td>\n",
       "      <td>0.000000</td>\n",
       "      <td>0.000000</td>\n",
       "    </tr>\n",
       "    <tr>\n",
       "      <th>25%</th>\n",
       "      <td>223.500000</td>\n",
       "      <td>0.000000</td>\n",
       "      <td>2.000000</td>\n",
       "      <td>20.125000</td>\n",
       "      <td>0.000000</td>\n",
       "      <td>0.000000</td>\n",
       "      <td>7.910400</td>\n",
       "    </tr>\n",
       "    <tr>\n",
       "      <th>50%</th>\n",
       "      <td>446.000000</td>\n",
       "      <td>0.000000</td>\n",
       "      <td>3.000000</td>\n",
       "      <td>28.000000</td>\n",
       "      <td>0.000000</td>\n",
       "      <td>0.000000</td>\n",
       "      <td>14.454200</td>\n",
       "    </tr>\n",
       "    <tr>\n",
       "      <th>75%</th>\n",
       "      <td>668.500000</td>\n",
       "      <td>1.000000</td>\n",
       "      <td>3.000000</td>\n",
       "      <td>38.000000</td>\n",
       "      <td>1.000000</td>\n",
       "      <td>0.000000</td>\n",
       "      <td>31.000000</td>\n",
       "    </tr>\n",
       "    <tr>\n",
       "      <th>max</th>\n",
       "      <td>891.000000</td>\n",
       "      <td>1.000000</td>\n",
       "      <td>3.000000</td>\n",
       "      <td>80.000000</td>\n",
       "      <td>8.000000</td>\n",
       "      <td>6.000000</td>\n",
       "      <td>512.329200</td>\n",
       "    </tr>\n",
       "  </tbody>\n",
       "</table>\n",
       "</div>"
      ],
      "text/plain": [
       "       PassengerId    Survived      Pclass         Age       SibSp  \\\n",
       "count   891.000000  891.000000  891.000000  714.000000  891.000000   \n",
       "mean    446.000000    0.383838    2.308642   29.699118    0.523008   \n",
       "std     257.353842    0.486592    0.836071   14.526497    1.102743   \n",
       "min       1.000000    0.000000    1.000000    0.420000    0.000000   \n",
       "25%     223.500000    0.000000    2.000000   20.125000    0.000000   \n",
       "50%     446.000000    0.000000    3.000000   28.000000    0.000000   \n",
       "75%     668.500000    1.000000    3.000000   38.000000    1.000000   \n",
       "max     891.000000    1.000000    3.000000   80.000000    8.000000   \n",
       "\n",
       "            Parch        Fare  \n",
       "count  891.000000  891.000000  \n",
       "mean     0.381594   32.204208  \n",
       "std      0.806057   49.693429  \n",
       "min      0.000000    0.000000  \n",
       "25%      0.000000    7.910400  \n",
       "50%      0.000000   14.454200  \n",
       "75%      0.000000   31.000000  \n",
       "max      6.000000  512.329200  "
      ]
     },
     "execution_count": 58,
     "metadata": {},
     "output_type": "execute_result"
    }
   ],
   "source": [
    "train_data=pd.read_csv(path+'train.csv')\n",
    "test_data=pd.read_csv(path+'test.csv')\n",
    "main_test_data=test_data\n",
    "\n",
    "train_data.describe()"
   ]
  },
  {
   "cell_type": "markdown",
   "id": "2897dfbc",
   "metadata": {},
   "source": [
    "We take a quick look to our train data. It seems that there are some gaps in it."
   ]
  },
  {
   "cell_type": "code",
   "execution_count": 4,
   "id": "9a6cdc5a",
   "metadata": {},
   "outputs": [
    {
     "data": {
      "text/plain": [
       "PassengerId      0\n",
       "Survived         0\n",
       "Pclass           0\n",
       "Name             0\n",
       "Sex              0\n",
       "Age            177\n",
       "SibSp            0\n",
       "Parch            0\n",
       "Ticket           0\n",
       "Fare             0\n",
       "Cabin          687\n",
       "Embarked         2\n",
       "dtype: int64"
      ]
     },
     "execution_count": 4,
     "metadata": {},
     "output_type": "execute_result"
    }
   ],
   "source": [
    "train_data.isna().sum()"
   ]
  },
  {
   "cell_type": "markdown",
   "id": "5a7dd812",
   "metadata": {},
   "source": [
    "At here we see that our **Age**, **Cabin** and **Embarked** features have empty values in our train data. Let's look for the test data"
   ]
  },
  {
   "cell_type": "code",
   "execution_count": 5,
   "id": "542c6ddc",
   "metadata": {},
   "outputs": [
    {
     "data": {
      "text/plain": [
       "PassengerId      0\n",
       "Pclass           0\n",
       "Name             0\n",
       "Sex              0\n",
       "Age             86\n",
       "SibSp            0\n",
       "Parch            0\n",
       "Ticket           0\n",
       "Fare             1\n",
       "Cabin          327\n",
       "Embarked         0\n",
       "dtype: int64"
      ]
     },
     "execution_count": 5,
     "metadata": {},
     "output_type": "execute_result"
    }
   ],
   "source": [
    "test_data.isna().sum()"
   ]
  },
  {
   "cell_type": "markdown",
   "id": "0c02bf3d",
   "metadata": {},
   "source": [
    "# Data Visualization \n",
    "\n",
    "To have better insights we visualize our data with correlation matrix"
   ]
  },
  {
   "cell_type": "code",
   "execution_count": 6,
   "id": "904be00e",
   "metadata": {},
   "outputs": [
    {
     "data": {
      "image/png": "[encoded data removed]",
      "text/plain": [
       "<Figure size 720x720 with 1 Axes>"
      ]
     },
     "metadata": {
      "needs_background": "light"
     },
     "output_type": "display_data"
    }
   ],
   "source": [
    "# Get correlation matrix\n",
    "corr = train_data.corr()\n",
    "fig, ax = plt.subplots(figsize=(10, 10))\n",
    "\n",
    "# Create heatmap\n",
    "im = ax.imshow(corr.values)\n",
    "\n",
    "# Set labels\n",
    "ax.set_xticks(np.arange(len(corr.columns)))\n",
    "ax.set_yticks(np.arange(len(corr.columns)))\n",
    "ax.set_xticklabels(corr.columns)\n",
    "ax.set_yticklabels(corr.columns)\n",
    "\n",
    "# Rotate the tick labels and set their alignment.\n",
    "plt.setp(ax.get_xticklabels(), rotation=45, ha=\"right\",\n",
    "         rotation_mode=\"anchor\")\n",
    "\n",
    "# Loop over data dimensions and create text annotations.\n",
    "for i in range(len(corr.columns)):\n",
    "    for j in range(len(corr.columns)):\n",
    "        text = ax.text(j, i, np.around(corr.iloc[i, j], decimals=2),\n",
    "                       ha=\"center\", va=\"center\", color=\"white\")"
   ]
  },
  {
   "cell_type": "markdown",
   "id": "a42fe535",
   "metadata": {},
   "source": [
    "We will drop the least correlated features and create new features with most correlated ones. With these features we will create a set of subsets. In this set, we will try to maximize the simularity of elements in the same subset and minimize the simularity between subsets."
   ]
  },
  {
   "cell_type": "markdown",
   "id": "af3404ff",
   "metadata": {},
   "source": [
    "To prepare our data we have to change the structure and then try to fill empty values"
   ]
  },
  {
   "cell_type": "markdown",
   "id": "04ff7766",
   "metadata": {},
   "source": [
    "# Data Preparation"
   ]
  },
  {
   "cell_type": "markdown",
   "id": "d709b36c",
   "metadata": {},
   "source": [
    "Luckily we won't be dealing with empty name columns. Since **Pclass** is correlated, we can colonize titles in the passenger names which is also correlated with Pclass. Also **Sex** would have a correlation, so we will change the **male** with **0** and **female** with **1**."
   ]
  },
  {
   "cell_type": "code",
   "execution_count": 7,
   "id": "b58b33f6",
   "metadata": {},
   "outputs": [
    {
     "name": "stderr",
     "output_type": "stream",
     "text": [
      "<ipython-input-7-8169c5a75c91>:5: SettingWithCopyWarning: \n",
      "A value is trying to be set on a copy of a slice from a DataFrame\n",
      "\n",
      "See the caveats in the documentation: https://pandas.pydata.org/pandas-docs/stable/user_guide/indexing.html#returning-a-view-versus-a-copy\n",
      "  train_data[\"Title\"][i]=train_data['Name'][i].split(\",\")[1].split(\".\")[0]\n",
      "<ipython-input-7-8169c5a75c91>:9: SettingWithCopyWarning: \n",
      "A value is trying to be set on a copy of a slice from a DataFrame\n",
      "\n",
      "See the caveats in the documentation: https://pandas.pydata.org/pandas-docs/stable/user_guide/indexing.html#returning-a-view-versus-a-copy\n",
      "  test_data[\"Title\"][i]=test_data['Name'][i].split(\",\")[1].split(\".\")[0]\n"
     ]
    }
   ],
   "source": [
    "# Separeting titles from names \n",
    "\n",
    "train_data.insert(2, \"Title\", \"Title\")\n",
    "for i in range(len(train_data['Name'])):\n",
    "    train_data[\"Title\"][i]=train_data['Name'][i].split(\",\")[1].split(\".\")[0]\n",
    "    \n",
    "test_data.insert(2, \"Title\", \"Title\")\n",
    "for i in range(len(test_data['Name'])):\n",
    "    test_data[\"Title\"][i]=test_data['Name'][i].split(\",\")[1].split(\".\")[0]"
   ]
  },
  {
   "cell_type": "code",
   "execution_count": 8,
   "id": "574befa6",
   "metadata": {},
   "outputs": [],
   "source": [
    "# Categorizing train dataset titles \n",
    "\n",
    "train_data.loc[(train_data.Sex == 'male'),'Sex']=0\n",
    "train_data.loc[(train_data.Sex == 'female'),'Sex']=1\n",
    "\n",
    "train_data['Title'].mask(train_data['Title'] == ' Mrs', 1, inplace=True)\n",
    "train_data['Title'].mask(train_data['Title'] == ' Miss', 1, inplace=True)\n",
    "train_data['Title'].mask(train_data['Title'] == ' Ms', 1, inplace=True)\n",
    "train_data['Title'].mask(train_data['Title'] == ' Mlle', 1, inplace=True)\n",
    "train_data['Title'].mask(train_data['Title'] == ' Mme', 1, inplace=True)\n",
    "train_data['Title'].mask(train_data['Title'] == ' the Countess', 1, inplace=True)\n",
    "train_data['Title'].mask(train_data['Title'] == ' Lady', 1, inplace=True)\n",
    "\n",
    "train_data['Title'].mask(train_data['Title'] == ' Master', 2, inplace=True)\n",
    "\n",
    "train_data['Title'].mask(train_data['Title'] == ' Dr', 3, inplace=True)\n",
    "train_data['Title'].mask(train_data['Title'] == ' Don', 3, inplace=True)\n",
    "train_data['Title'].mask(train_data['Title'] == ' Sir', 3, inplace=True)\n",
    "train_data['Title'].mask(train_data['Title'] == ' Col', 3, inplace=True)\n",
    "train_data['Title'].mask(train_data['Title'] == ' Capt', 3, inplace=True)\n",
    "train_data['Title'].mask(train_data['Title'] == ' Major', 3, inplace=True)\n",
    "\n",
    "train_data['Title'].mask(train_data['Title'] == ' Mr', 4, inplace=True)\n",
    "\n",
    "train_data['Title'].mask(train_data['Title'] == ' Rev', 5, inplace=True)\n",
    "train_data['Title'].mask(train_data['Title'] == ' Jonkheer', 5, inplace=True)\n",
    "\n",
    "# Categorizing test dataset titles \n",
    "\n",
    "test_data.loc[(test_data.Sex == 'male'),'Sex']=0\n",
    "test_data.loc[(test_data.Sex == 'female'),'Sex']=1\n",
    "\n",
    "test_data['Title'].mask(test_data['Title'] == ' Mrs', 1, inplace=True)\n",
    "test_data['Title'].mask(test_data['Title'] == ' Miss', 1, inplace=True)\n",
    "test_data['Title'].mask(test_data['Title'] == ' Ms', 1, inplace=True)\n",
    "test_data['Title'].mask(test_data['Title'] == ' Mlle', 1, inplace=True)\n",
    "test_data['Title'].mask(test_data['Title'] == ' Mme', 1, inplace=True)\n",
    "test_data['Title'].mask(test_data['Title'] == ' the Countess', 1, inplace=True)\n",
    "test_data['Title'].mask(test_data['Title'] == ' Lady', 1, inplace=True)\n",
    "test_data['Title'].mask(test_data['Title'] == ' Dona', 1, inplace=True)\n",
    "\n",
    "test_data['Title'].mask(test_data['Title'] == ' Master', 2, inplace=True)\n",
    "\n",
    "test_data['Title'].mask(test_data['Title'] == ' Dr', 3, inplace=True)\n",
    "test_data['Title'].mask(test_data['Title'] == ' Don', 3, inplace=True)\n",
    "test_data['Title'].mask(test_data['Title'] == ' Sir', 3, inplace=True)\n",
    "test_data['Title'].mask(test_data['Title'] == ' Col', 3, inplace=True)\n",
    "test_data['Title'].mask(test_data['Title'] == ' Capt', 3, inplace=True)\n",
    "test_data['Title'].mask(test_data['Title'] == ' Major', 3, inplace=True)\n",
    "\n",
    "test_data['Title'].mask(test_data['Title'] == ' Mr', 4, inplace=True)\n",
    "\n",
    "test_data['Title'].mask(test_data['Title'] == ' Rev', 5, inplace=True)\n",
    "test_data['Title'].mask(test_data['Title'] == ' Jonkheer', 5, inplace=True)"
   ]
  },
  {
   "cell_type": "markdown",
   "id": "d5fdfe05",
   "metadata": {},
   "source": [
    "We create a feature named FamilySize. The idea behind this feature is we can not easily guess a passenger's survival status because of reality factor. Which is there may some accidents on the way of leaving the ship. Since the families are moving together, this would be changing the survival result."
   ]
  },
  {
   "cell_type": "code",
   "execution_count": 9,
   "id": "1959c34d",
   "metadata": {},
   "outputs": [],
   "source": [
    "train_data['FamilySize'] = train_data['SibSp'] + train_data['Parch']+1\n",
    "test_data['FamilySize'] = test_data['SibSp'] + test_data['Parch']+1\n",
    "\n",
    "train_data.loc[train_data['FamilySize']==1, 'FamilySize']=0\n",
    "train_data.loc[(train_data['FamilySize']>1) & (train_data['FamilySize']<=3), 'FamilySize']=1\n",
    "train_data.loc[(train_data['FamilySize']>3) & (train_data['FamilySize']<=5), 'FamilySize']=2\n",
    "train_data.loc[(train_data['FamilySize']>5), 'FamilySize']=3\n",
    "\n",
    "test_data.loc[test_data['FamilySize']==1, 'FamilySize']=0\n",
    "test_data.loc[(test_data['FamilySize']>1) & (test_data['FamilySize']<=3), 'FamilySize']=1\n",
    "test_data.loc[(test_data['FamilySize']>3) & (test_data['FamilySize']<=5), 'FamilySize']=2\n",
    "test_data.loc[(test_data['FamilySize']>5), 'FamilySize']=3"
   ]
  },
  {
   "cell_type": "code",
   "execution_count": 10,
   "id": "72e3b3d3",
   "metadata": {},
   "outputs": [
    {
     "data": {
      "text/html": [
       "<div>\n",
       "<style scoped>\n",
       "    .dataframe tbody tr th:only-of-type {\n",
       "        vertical-align: middle;\n",
       "    }\n",
       "\n",
       "    .dataframe tbody tr th {\n",
       "        vertical-align: top;\n",
       "    }\n",
       "\n",
       "    .dataframe thead th {\n",
       "        text-align: right;\n",
       "    }\n",
       "</style>\n",
       "<table border=\"1\" class=\"dataframe\">\n",
       "  <thead>\n",
       "    <tr style=\"text-align: right;\">\n",
       "      <th></th>\n",
       "      <th>PassengerId</th>\n",
       "      <th>Survived</th>\n",
       "      <th>Title</th>\n",
       "      <th>Pclass</th>\n",
       "      <th>Name</th>\n",
       "      <th>Sex</th>\n",
       "      <th>Age</th>\n",
       "      <th>SibSp</th>\n",
       "      <th>Parch</th>\n",
       "      <th>Ticket</th>\n",
       "      <th>Fare</th>\n",
       "      <th>Cabin</th>\n",
       "      <th>Embarked</th>\n",
       "      <th>FamilySize</th>\n",
       "    </tr>\n",
       "  </thead>\n",
       "  <tbody>\n",
       "    <tr>\n",
       "      <th>61</th>\n",
       "      <td>62</td>\n",
       "      <td>1</td>\n",
       "      <td>1</td>\n",
       "      <td>1</td>\n",
       "      <td>Icard, Miss. Amelie</td>\n",
       "      <td>1</td>\n",
       "      <td>38.0</td>\n",
       "      <td>0</td>\n",
       "      <td>0</td>\n",
       "      <td>113572</td>\n",
       "      <td>80.0</td>\n",
       "      <td>B28</td>\n",
       "      <td>NaN</td>\n",
       "      <td>0</td>\n",
       "    </tr>\n",
       "    <tr>\n",
       "      <th>829</th>\n",
       "      <td>830</td>\n",
       "      <td>1</td>\n",
       "      <td>1</td>\n",
       "      <td>1</td>\n",
       "      <td>Stone, Mrs. George Nelson (Martha Evelyn)</td>\n",
       "      <td>1</td>\n",
       "      <td>62.0</td>\n",
       "      <td>0</td>\n",
       "      <td>0</td>\n",
       "      <td>113572</td>\n",
       "      <td>80.0</td>\n",
       "      <td>B28</td>\n",
       "      <td>NaN</td>\n",
       "      <td>0</td>\n",
       "    </tr>\n",
       "  </tbody>\n",
       "</table>\n",
       "</div>"
      ],
      "text/plain": [
       "     PassengerId  Survived Title  Pclass  \\\n",
       "61            62         1     1       1   \n",
       "829          830         1     1       1   \n",
       "\n",
       "                                          Name Sex   Age  SibSp  Parch  \\\n",
       "61                         Icard, Miss. Amelie   1  38.0      0      0   \n",
       "829  Stone, Mrs. George Nelson (Martha Evelyn)   1  62.0      0      0   \n",
       "\n",
       "     Ticket  Fare Cabin Embarked  FamilySize  \n",
       "61   113572  80.0   B28      NaN           0  \n",
       "829  113572  80.0   B28      NaN           0  "
      ]
     },
     "execution_count": 10,
     "metadata": {},
     "output_type": "execute_result"
    }
   ],
   "source": [
    "train_data[train_data['Embarked'].isna()]"
   ]
  },
  {
   "cell_type": "markdown",
   "id": "a7027f63",
   "metadata": {},
   "source": [
    "We have some empty values for the Embarked and Fare features. For the sake of the count, we can manually fill the empty values."
   ]
  },
  {
   "cell_type": "code",
   "execution_count": 11,
   "id": "64618c35",
   "metadata": {},
   "outputs": [],
   "source": [
    "train_data['Embarked']=train_data['Embarked'].fillna('Q')"
   ]
  },
  {
   "cell_type": "markdown",
   "id": "78634108",
   "metadata": {},
   "source": [
    "Same thing for the Fare value in test data."
   ]
  },
  {
   "cell_type": "code",
   "execution_count": 12,
   "id": "190ccc0d",
   "metadata": {},
   "outputs": [
    {
     "data": {
      "text/html": [
       "<div>\n",
       "<style scoped>\n",
       "    .dataframe tbody tr th:only-of-type {\n",
       "        vertical-align: middle;\n",
       "    }\n",
       "\n",
       "    .dataframe tbody tr th {\n",
       "        vertical-align: top;\n",
       "    }\n",
       "\n",
       "    .dataframe thead th {\n",
       "        text-align: right;\n",
       "    }\n",
       "</style>\n",
       "<table border=\"1\" class=\"dataframe\">\n",
       "  <thead>\n",
       "    <tr style=\"text-align: right;\">\n",
       "      <th></th>\n",
       "      <th>PassengerId</th>\n",
       "      <th>Pclass</th>\n",
       "      <th>Title</th>\n",
       "      <th>Name</th>\n",
       "      <th>Sex</th>\n",
       "      <th>Age</th>\n",
       "      <th>SibSp</th>\n",
       "      <th>Parch</th>\n",
       "      <th>Ticket</th>\n",
       "      <th>Fare</th>\n",
       "      <th>Cabin</th>\n",
       "      <th>Embarked</th>\n",
       "      <th>FamilySize</th>\n",
       "    </tr>\n",
       "  </thead>\n",
       "  <tbody>\n",
       "    <tr>\n",
       "      <th>152</th>\n",
       "      <td>1044</td>\n",
       "      <td>3</td>\n",
       "      <td>4</td>\n",
       "      <td>Storey, Mr. Thomas</td>\n",
       "      <td>0</td>\n",
       "      <td>60.5</td>\n",
       "      <td>0</td>\n",
       "      <td>0</td>\n",
       "      <td>3701</td>\n",
       "      <td>NaN</td>\n",
       "      <td>NaN</td>\n",
       "      <td>S</td>\n",
       "      <td>0</td>\n",
       "    </tr>\n",
       "  </tbody>\n",
       "</table>\n",
       "</div>"
      ],
      "text/plain": [
       "     PassengerId  Pclass Title                Name Sex   Age  SibSp  Parch  \\\n",
       "152         1044       3     4  Storey, Mr. Thomas   0  60.5      0      0   \n",
       "\n",
       "    Ticket  Fare Cabin Embarked  FamilySize  \n",
       "152   3701   NaN   NaN        S           0  "
      ]
     },
     "execution_count": 12,
     "metadata": {},
     "output_type": "execute_result"
    }
   ],
   "source": [
    "test_data[test_data['Fare'].isna()]"
   ]
  },
  {
   "cell_type": "code",
   "execution_count": 13,
   "id": "c0f91fd2",
   "metadata": {},
   "outputs": [],
   "source": [
    "test_data['Fare']=test_data['Fare'].fillna(test_data[test_data['Pclass']==3]['Fare'].mean())"
   ]
  },
  {
   "cell_type": "markdown",
   "id": "4bbda85d",
   "metadata": {},
   "source": [
    "We have lot's of empty values in **Age** column. To do this we will look for the Pclass of the passenger. Since the mean value of Pclass=1 and mean value of males in Pclass=1 are different, we will look for the Passenger's gender. If the passenger's Age value is missing we fill with mean value of the related Pclass with same gender."
   ]
  },
  {
   "cell_type": "code",
   "execution_count": 14,
   "id": "c6cd4f64",
   "metadata": {},
   "outputs": [],
   "source": [
    "train_data_age=train_data[['Pclass','Age','Sex']].copy()\n",
    "test_data_age=test_data[['Pclass','Age','Sex']].copy\n",
    "train_men_age=[]\n",
    "train_women_age=[]\n",
    "\n",
    "test_men_age=[]\n",
    "test_women_age=[]\n",
    "\n",
    "for i in train_data['Pclass'].unique():\n",
    "    train_men_age.append(train_data_age.loc[(train_data_age['Pclass']==i) & (train_data_age['Sex']==0)].mean())\n",
    "    train_women_age.append(train_data_age.loc[(train_data_age['Pclass']==i) & (train_data_age['Sex']==1)].mean())\n",
    "    \n",
    "    # We do the same mean value calculation from train data for test data since there are more records.\n",
    "    test_men_age.append(train_data_age.loc[(train_data_age['Pclass']==i) & (train_data_age['Sex']==0)].mean())\n",
    "    test_women_age.append(train_data_age.loc[(train_data_age['Pclass']==i) & (train_data_age['Sex']==1)].mean())"
   ]
  },
  {
   "cell_type": "code",
   "execution_count": 15,
   "id": "24b1ef32",
   "metadata": {},
   "outputs": [],
   "source": [
    "def impute_age_train(cols):\n",
    "    Age = cols[0]\n",
    "    Pclass = cols[1]\n",
    "    Sex = cols[2]\n",
    "    \n",
    "    if pd.isnull(Age) and Sex==0:\n",
    "        if Pclass==1:\n",
    "            return train_men_age[1][1]\n",
    "\n",
    "        if Pclass==2:\n",
    "            return train_men_age[2][1]\n",
    "        \n",
    "        if Pclass==3:\n",
    "            return train_men_age[0][1]\n",
    "\n",
    "    elif pd.isnull(Age) and Sex==1: \n",
    "\n",
    "        if Pclass==1:\n",
    "            return train_women_age[1][1]\n",
    "        \n",
    "        if Pclass==2:\n",
    "            return train_women_age[2][1]\n",
    "        \n",
    "        if Pclass==3:\n",
    "            return train_women_age[0][1]\n",
    "\n",
    "    else:\n",
    "        return Age\n",
    "\n",
    "def impute_age_test(cols):\n",
    "    Age = cols[0]\n",
    "    Pclass = cols[1]\n",
    "    Sex = cols[2]\n",
    "    \n",
    "    if pd.isnull(Age) and Sex==0:\n",
    "        if Pclass==1:\n",
    "            return test_men_age[1][1]\n",
    "\n",
    "        if Pclass==2:\n",
    "            return test_men_age[2][1]\n",
    "        \n",
    "        if Pclass==3:\n",
    "            return test_men_age[0][1]\n",
    "\n",
    "    elif pd.isnull(Age) and Sex==1: \n",
    "\n",
    "        if Pclass==1:\n",
    "            return test_women_age[1][1]\n",
    "        \n",
    "        if Pclass==2:\n",
    "            return test_women_age[2][1]\n",
    "        \n",
    "        if Pclass==3:\n",
    "            return test_women_age[0][1]\n",
    "\n",
    "    else:\n",
    "        return Age\n"
   ]
  },
  {
   "cell_type": "code",
   "execution_count": 16,
   "id": "9d299736",
   "metadata": {},
   "outputs": [],
   "source": [
    "train_data['Age'] = train_data[['Age', 'Pclass','Sex']].apply(impute_age_train, axis=1)\n",
    "test_data['Age']=test_data[['Age', 'Pclass','Sex']].apply(impute_age_test, axis=1)"
   ]
  },
  {
   "cell_type": "code",
   "execution_count": 17,
   "id": "6e97d6e3",
   "metadata": {},
   "outputs": [],
   "source": [
    "train_data.drop(['SibSp','Parch'], axis=1, inplace=True)\n",
    "test_data.drop(['SibSp','Parch'], axis=1, inplace=True)"
   ]
  },
  {
   "cell_type": "markdown",
   "id": "a399d6d9",
   "metadata": {},
   "source": [
    "We encode non-numerical features in binary classification."
   ]
  },
  {
   "cell_type": "code",
   "execution_count": 18,
   "id": "87e2e984",
   "metadata": {},
   "outputs": [],
   "source": [
    "non_numeric=['Sex','Embarked','Title']\n",
    "\n",
    "for feature in non_numeric:\n",
    "    train_data[feature]=LabelEncoder().fit_transform(train_data[feature])\n",
    "    test_data[feature]=LabelEncoder().fit_transform(test_data[feature])"
   ]
  },
  {
   "cell_type": "code",
   "execution_count": 19,
   "id": "736e86c1",
   "metadata": {},
   "outputs": [],
   "source": [
    "cat_feats = ['Sex', 'Embarked', 'Pclass', 'Title', 'FamilySize']\n",
    "\n",
    "encoded_train_df_feats = []\n",
    "\n",
    "for feature in cat_feats:\n",
    "    encoded_feats_train = OneHotEncoder().fit_transform(train_data[feature].values.reshape(-1,1)).toarray()\n",
    "    n = train_data[feature].nunique()\n",
    "    cols = ['{}_{}'.format(feature, n) for n in range(1, n+1)]\n",
    "    encoded_df = pd.DataFrame(encoded_feats_train, columns=cols)\n",
    "    encoded_df.index = train_data.index\n",
    "    encoded_train_df_feats.append(encoded_df)"
   ]
  },
  {
   "cell_type": "code",
   "execution_count": 20,
   "id": "61d23938",
   "metadata": {},
   "outputs": [],
   "source": [
    "encoded_test_df_feats = []\n",
    "\n",
    "for feature in cat_feats:\n",
    "    encoded_feats_test = OneHotEncoder().fit_transform(test_data[feature].values.reshape(-1,1)).toarray()\n",
    "    n = test_data[feature].nunique()\n",
    "    cols = ['{}_{}'.format(feature, n) for n in range(1, n+1)]\n",
    "    encoded_dft = pd.DataFrame(encoded_feats_test, columns=cols)\n",
    "    encoded_dft.index = test_data.index\n",
    "    encoded_test_df_feats.append(encoded_dft)"
   ]
  },
  {
   "cell_type": "code",
   "execution_count": 21,
   "id": "15481675",
   "metadata": {},
   "outputs": [],
   "source": [
    "train_data=pd.concat([train_data, *encoded_train_df_feats], axis=1)\n",
    "test_data=pd.concat([test_data, *encoded_test_df_feats], axis=1)"
   ]
  },
  {
   "cell_type": "markdown",
   "id": "8596393a",
   "metadata": {},
   "source": [
    "We now drop unnecessary columns"
   ]
  },
  {
   "cell_type": "code",
   "execution_count": 22,
   "id": "32cbdf13",
   "metadata": {},
   "outputs": [],
   "source": [
    "drop_columns=['Name','Pclass','Sex','Title','Embarked','FamilySize']\n",
    "\n",
    "del train_data['PassengerId']\n",
    "del test_data['PassengerId']\n",
    "\n",
    "del train_data['Ticket']\n",
    "del test_data['Ticket']\n",
    "\n",
    "del train_data['Cabin']\n",
    "del test_data['Cabin']"
   ]
  },
  {
   "cell_type": "code",
   "execution_count": 23,
   "id": "fc1fbb77",
   "metadata": {},
   "outputs": [],
   "source": [
    "train_data.drop(columns=drop_columns,inplace=True)\n",
    "test_data.drop(columns=drop_columns,inplace=True)"
   ]
  },
  {
   "cell_type": "markdown",
   "id": "779a8931",
   "metadata": {},
   "source": [
    "# Train the model"
   ]
  },
  {
   "cell_type": "code",
   "execution_count": 24,
   "id": "d775127f",
   "metadata": {},
   "outputs": [],
   "source": [
    "X=train_data.drop('Survived',axis=1)\n",
    "y=train_data['Survived']\n",
    "\n",
    "X_train, X_test, y_train, y_test=train_test_split(X, y, test_size=0.3, random_state=49)"
   ]
  },
  {
   "cell_type": "markdown",
   "id": "8f982469",
   "metadata": {},
   "source": [
    "# Random Forest Classifier"
   ]
  },
  {
   "cell_type": "code",
   "execution_count": 25,
   "id": "63f0889e",
   "metadata": {},
   "outputs": [],
   "source": [
    "rfc = RandomForestClassifier(n_estimators=190)\n",
    "rfc.fit(X_train, y_train)\n",
    "prediction3 = rfc.predict(X_test)"
   ]
  },
  {
   "cell_type": "code",
   "execution_count": 26,
   "id": "79dbc546",
   "metadata": {},
   "outputs": [
    {
     "name": "stdout",
     "output_type": "stream",
     "text": [
      "Confusion Matrix:\n",
      " [[161  17]\n",
      " [ 18  72]]\n",
      "\n",
      "\n",
      "Classification Report:\n",
      "               precision    recall  f1-score   support\n",
      "\n",
      "           0       0.90      0.90      0.90       178\n",
      "           1       0.81      0.80      0.80        90\n",
      "\n",
      "    accuracy                           0.87       268\n",
      "   macro avg       0.85      0.85      0.85       268\n",
      "weighted avg       0.87      0.87      0.87       268\n",
      "\n"
     ]
    }
   ],
   "source": [
    "print('Confusion Matrix:\\n', confusion_matrix(y_test, prediction3))\n",
    "print('\\n')\n",
    "print('Classification Report:\\n', classification_report(y_test, prediction3))"
   ]
  },
  {
   "cell_type": "markdown",
   "id": "2792bca0",
   "metadata": {},
   "source": [
    "# Support Vector Machines"
   ]
  },
  {
   "cell_type": "code",
   "execution_count": 27,
   "id": "521662cb",
   "metadata": {},
   "outputs": [],
   "source": [
    "svc_model = SVC()\n",
    "svc_model.fit(X_train, y_train)\n",
    "predictions4 = svc_model.predict(X_test)"
   ]
  },
  {
   "cell_type": "code",
   "execution_count": 28,
   "id": "3d55efea",
   "metadata": {},
   "outputs": [
    {
     "name": "stdout",
     "output_type": "stream",
     "text": [
      "Confusion Matrix:\n",
      " [[159  19]\n",
      " [ 59  31]]\n",
      "\n",
      "\n",
      "Classification Report:\n",
      "               precision    recall  f1-score   support\n",
      "\n",
      "           0       0.73      0.89      0.80       178\n",
      "           1       0.62      0.34      0.44        90\n",
      "\n",
      "    accuracy                           0.71       268\n",
      "   macro avg       0.67      0.62      0.62       268\n",
      "weighted avg       0.69      0.71      0.68       268\n",
      "\n"
     ]
    }
   ],
   "source": [
    "print('Confusion Matrix:\\n', confusion_matrix(y_test, predictions4))\n",
    "print('\\n')\n",
    "print('Classification Report:\\n', classification_report(y_test, predictions4))"
   ]
  },
  {
   "cell_type": "code",
   "execution_count": 45,
   "id": "9de1dfbd",
   "metadata": {},
   "outputs": [
    {
     "name": "stdout",
     "output_type": "stream",
     "text": [
      "Fitting 10 folds for each of 10 candidates, totalling 100 fits\n",
      "[CV] END ......................................C=10, gamma=1; total time=   0.0s\n",
      "[CV] END ......................................C=10, gamma=1; total time=   0.0s\n",
      "[CV] END ......................................C=10, gamma=1; total time=   0.0s\n",
      "[CV] END ......................................C=10, gamma=1; total time=   0.0s\n",
      "[CV] END ......................................C=10, gamma=1; total time=   0.0s\n",
      "[CV] END ......................................C=10, gamma=1; total time=   0.0s\n",
      "[CV] END ......................................C=10, gamma=1; total time=   0.0s\n",
      "[CV] END ......................................C=10, gamma=1; total time=   0.0s\n",
      "[CV] END ......................................C=10, gamma=1; total time=   0.0s\n",
      "[CV] END ......................................C=10, gamma=1; total time=   0.0s\n",
      "[CV] END ...................................C=0.1, gamma=0.1; total time=   0.0s\n",
      "[CV] END ...................................C=0.1, gamma=0.1; total time=   0.0s\n",
      "[CV] END ...................................C=0.1, gamma=0.1; total time=   0.0s\n",
      "[CV] END ...................................C=0.1, gamma=0.1; total time=   0.0s\n",
      "[CV] END ...................................C=0.1, gamma=0.1; total time=   0.0s\n",
      "[CV] END ...................................C=0.1, gamma=0.1; total time=   0.0s\n",
      "[CV] END ...................................C=0.1, gamma=0.1; total time=   0.0s\n",
      "[CV] END ...................................C=0.1, gamma=0.1; total time=   0.0s\n",
      "[CV] END ...................................C=0.1, gamma=0.1; total time=   0.0s\n",
      "[CV] END ...................................C=0.1, gamma=0.1; total time=   0.0s\n",
      "[CV] END ....................................C=10, gamma=0.1; total time=   0.0s\n",
      "[CV] END ....................................C=10, gamma=0.1; total time=   0.0s\n",
      "[CV] END ....................................C=10, gamma=0.1; total time=   0.0s\n",
      "[CV] END ....................................C=10, gamma=0.1; total time=   0.0s\n",
      "[CV] END ....................................C=10, gamma=0.1; total time=   0.0s\n",
      "[CV] END ....................................C=10, gamma=0.1; total time=   0.0s\n",
      "[CV] END ....................................C=10, gamma=0.1; total time=   0.0s\n",
      "[CV] END ....................................C=10, gamma=0.1; total time=   0.0s\n",
      "[CV] END ....................................C=10, gamma=0.1; total time=   0.0s\n",
      "[CV] END ....................................C=10, gamma=0.1; total time=   0.0s\n",
      "[CV] END ....................................C=1000, gamma=1; total time=   0.1s\n",
      "[CV] END ....................................C=1000, gamma=1; total time=   0.0s\n",
      "[CV] END ....................................C=1000, gamma=1; total time=   0.1s\n",
      "[CV] END ....................................C=1000, gamma=1; total time=   0.0s\n",
      "[CV] END ....................................C=1000, gamma=1; total time=   0.0s\n",
      "[CV] END ....................................C=1000, gamma=1; total time=   0.0s\n",
      "[CV] END ....................................C=1000, gamma=1; total time=   0.0s\n",
      "[CV] END ....................................C=1000, gamma=1; total time=   0.1s\n",
      "[CV] END ....................................C=1000, gamma=1; total time=   0.1s\n",
      "[CV] END ....................................C=1000, gamma=1; total time=   0.0s\n",
      "[CV] END ................................C=1000, gamma=0.001; total time=   0.0s\n",
      "[CV] END ................................C=1000, gamma=0.001; total time=   0.0s\n",
      "[CV] END ................................C=1000, gamma=0.001; total time=   0.0s\n",
      "[CV] END ................................C=1000, gamma=0.001; total time=   0.0s\n",
      "[CV] END ................................C=1000, gamma=0.001; total time=   0.0s\n",
      "[CV] END ................................C=1000, gamma=0.001; total time=   0.0s\n",
      "[CV] END ................................C=1000, gamma=0.001; total time=   0.0s\n",
      "[CV] END ................................C=1000, gamma=0.001; total time=   0.0s\n",
      "[CV] END ................................C=1000, gamma=0.001; total time=   0.0s\n",
      "[CV] END ................................C=1000, gamma=0.001; total time=   0.1s\n",
      "[CV] END ...................................C=100, gamma=0.1; total time=   0.0s\n",
      "[CV] END ...................................C=100, gamma=0.1; total time=   0.0s\n",
      "[CV] END ...................................C=100, gamma=0.1; total time=   0.0s\n",
      "[CV] END ...................................C=100, gamma=0.1; total time=   0.0s\n",
      "[CV] END ...................................C=100, gamma=0.1; total time=   0.0s\n",
      "[CV] END ...................................C=100, gamma=0.1; total time=   0.0s\n",
      "[CV] END ...................................C=100, gamma=0.1; total time=   0.0s\n",
      "[CV] END ...................................C=100, gamma=0.1; total time=   0.0s\n",
      "[CV] END ...................................C=100, gamma=0.1; total time=   0.0s\n",
      "[CV] END ...................................C=100, gamma=0.1; total time=   0.0s\n",
      "[CV] END ..................................C=100, gamma=0.01; total time=   0.0s\n",
      "[CV] END ..................................C=100, gamma=0.01; total time=   0.0s\n",
      "[CV] END ..................................C=100, gamma=0.01; total time=   0.0s\n",
      "[CV] END ..................................C=100, gamma=0.01; total time=   0.0s\n",
      "[CV] END ..................................C=100, gamma=0.01; total time=   0.0s\n",
      "[CV] END ..................................C=100, gamma=0.01; total time=   0.0s\n",
      "[CV] END ..................................C=100, gamma=0.01; total time=   0.0s\n",
      "[CV] END ..................................C=100, gamma=0.01; total time=   0.0s\n",
      "[CV] END ..................................C=100, gamma=0.01; total time=   0.0s\n",
      "[CV] END ..................................C=100, gamma=0.01; total time=   0.0s\n",
      "[CV] END .................................C=100, gamma=0.001; total time=   0.0s\n",
      "[CV] END .................................C=100, gamma=0.001; total time=   0.0s\n",
      "[CV] END .................................C=100, gamma=0.001; total time=   0.0s\n",
      "[CV] END .................................C=100, gamma=0.001; total time=   0.0s\n",
      "[CV] END .................................C=100, gamma=0.001; total time=   0.0s\n",
      "[CV] END .................................C=100, gamma=0.001; total time=   0.0s\n",
      "[CV] END .................................C=100, gamma=0.001; total time=   0.0s\n",
      "[CV] END .................................C=100, gamma=0.001; total time=   0.0s\n",
      "[CV] END .................................C=100, gamma=0.001; total time=   0.0s\n",
      "[CV] END .................................C=100, gamma=0.001; total time=   0.0s\n",
      "[CV] END .....................................C=100, gamma=1; total time=   0.0s\n",
      "[CV] END .....................................C=100, gamma=1; total time=   0.0s\n",
      "[CV] END .....................................C=100, gamma=1; total time=   0.0s\n",
      "[CV] END .....................................C=100, gamma=1; total time=   0.0s\n",
      "[CV] END .....................................C=100, gamma=1; total time=   0.0s\n",
      "[CV] END .....................................C=100, gamma=1; total time=   0.0s\n",
      "[CV] END .....................................C=100, gamma=1; total time=   0.0s\n",
      "[CV] END .....................................C=100, gamma=1; total time=   0.0s\n",
      "[CV] END .....................................C=100, gamma=1; total time=   0.0s\n",
      "[CV] END .....................................C=100, gamma=1; total time=   0.0s\n",
      "[CV] END .................................C=1000, gamma=0.01; total time=   0.0s\n",
      "[CV] END .................................C=1000, gamma=0.01; total time=   0.0s\n",
      "[CV] END .................................C=1000, gamma=0.01; total time=   0.0s\n",
      "[CV] END .................................C=1000, gamma=0.01; total time=   0.0s\n",
      "[CV] END .................................C=1000, gamma=0.01; total time=   0.1s\n",
      "[CV] END .................................C=1000, gamma=0.01; total time=   0.0s\n",
      "[CV] END .................................C=1000, gamma=0.01; total time=   0.0s\n",
      "[CV] END .................................C=1000, gamma=0.01; total time=   0.0s\n",
      "[CV] END .................................C=1000, gamma=0.01; total time=   0.0s\n",
      "[CV] END .................................C=1000, gamma=0.01; total time=   0.0s\n",
      "Confusion Matrix:\n",
      " [[157  21]\n",
      " [ 21  69]]\n",
      "\n",
      "\n",
      "Classification Report:\n",
      "               precision    recall  f1-score   support\n",
      "\n",
      "           0       0.88      0.88      0.88       178\n",
      "           1       0.77      0.77      0.77        90\n",
      "\n",
      "    accuracy                           0.84       268\n",
      "   macro avg       0.82      0.82      0.82       268\n",
      "weighted avg       0.84      0.84      0.84       268\n",
      "\n"
     ]
    }
   ],
   "source": [
    "param_grid_svm = {'C':[0.1, 1, 10, 100, 1000], 'gamma':[1, 0.1, 0.01, 0.001, 0.0001]}\n",
    "rndm_cv = RandomizedSearchCV(estimator=svc_model, param_distributions=param_grid_svm, cv=10, verbose=2)\n",
    "rndm_cv.fit(X_train, y_train)\n",
    "rndm_preds = rndm_cv.predict(X_test)\n",
    "print('Confusion Matrix:\\n', confusion_matrix(y_test, rndm_preds))\n",
    "print('\\n')\n",
    "print('Classification Report:\\n', classification_report(y_test, rndm_preds))"
   ]
  },
  {
   "cell_type": "markdown",
   "id": "4afa8a09",
   "metadata": {},
   "source": [
    "# Stochastic Gradient Boosting"
   ]
  },
  {
   "cell_type": "code",
   "execution_count": 29,
   "id": "b44cdb93",
   "metadata": {},
   "outputs": [
    {
     "data": {
      "text/plain": [
       "GradientBoostingClassifier(max_features=0.7, subsample=0.9)"
      ]
     },
     "execution_count": 29,
     "metadata": {},
     "output_type": "execute_result"
    }
   ],
   "source": [
    "sgb.fit(X_train, y_train)"
   ]
  },
  {
   "cell_type": "code",
   "execution_count": 30,
   "id": "3b323e27",
   "metadata": {},
   "outputs": [],
   "source": [
    "sgb_preds = sgb.predict(X_test)"
   ]
  },
  {
   "cell_type": "code",
   "execution_count": 31,
   "id": "7a703bf0",
   "metadata": {},
   "outputs": [
    {
     "name": "stdout",
     "output_type": "stream",
     "text": [
      "Confusion Matrix:\n",
      " [[159  19]\n",
      " [ 20  70]]\n",
      "Classification Report:\n",
      "               precision    recall  f1-score   support\n",
      "\n",
      "           0       0.89      0.89      0.89       178\n",
      "           1       0.79      0.78      0.78        90\n",
      "\n",
      "    accuracy                           0.85       268\n",
      "   macro avg       0.84      0.84      0.84       268\n",
      "weighted avg       0.85      0.85      0.85       268\n",
      "\n"
     ]
    }
   ],
   "source": [
    "print(\"Confusion Matrix:\\n\",confusion_matrix(y_test, sgb_preds))\n",
    "print(\"Classification Report:\\n\",classification_report(y_test, sgb_preds))"
   ]
  },
  {
   "cell_type": "markdown",
   "id": "b42e2128",
   "metadata": {},
   "source": [
    "# XG Boost"
   ]
  },
  {
   "cell_type": "code",
   "execution_count": 32,
   "id": "53d8699c",
   "metadata": {},
   "outputs": [
    {
     "name": "stdout",
     "output_type": "stream",
     "text": [
      "[08:38:14] WARNING: ../src/learner.cc:1095: Starting in XGBoost 1.3.0, the default evaluation metric used with the objective 'binary:logistic' was changed from 'error' to 'logloss'. Explicitly set eval_metric if you'd like to restore the old behavior.\n"
     ]
    },
    {
     "name": "stderr",
     "output_type": "stream",
     "text": [
      "/opt/anaconda3/lib/python3.8/site-packages/xgboost/sklearn.py:1146: UserWarning: The use of label encoder in XGBClassifier is deprecated and will be removed in a future release. To remove this warning, do the following: 1) Pass option use_label_encoder=False when constructing XGBClassifier object; and 2) Encode your labels (y) as integers starting with 0, i.e. 0, 1, 2, ..., [num_class - 1].\n",
      "  warnings.warn(label_encoder_deprecation_msg, UserWarning)\n"
     ]
    },
    {
     "data": {
      "text/plain": [
       "XGBClassifier(base_score=0.5, booster='gbtree', colsample_bylevel=1,\n",
       "              colsample_bynode=1, colsample_bytree=1, gamma=0, gpu_id=-1,\n",
       "              importance_type='gain', interaction_constraints='',\n",
       "              learning_rate=0.1, max_delta_step=0, max_depth=5,\n",
       "              min_child_weight=1, missing=nan, monotone_constraints='()',\n",
       "              n_estimators=180, n_jobs=8, num_parallel_tree=1, random_state=0,\n",
       "              reg_alpha=0, reg_lambda=1, scale_pos_weight=1, subsample=1,\n",
       "              tree_method='exact', validate_parameters=1, verbosity=None)"
      ]
     },
     "execution_count": 32,
     "metadata": {},
     "output_type": "execute_result"
    }
   ],
   "source": [
    "xgb = XGBClassifier(booster = 'gbtree', learning_rate = 0.1, max_depth = 5, n_estimators = 180)\n",
    "xgb.fit(X_train, y_train)"
   ]
  },
  {
   "cell_type": "code",
   "execution_count": 33,
   "id": "d45373ac",
   "metadata": {},
   "outputs": [],
   "source": [
    "xgb_preds = xgb.predict(X_test)\n"
   ]
  },
  {
   "cell_type": "code",
   "execution_count": 34,
   "id": "ab7a8182",
   "metadata": {},
   "outputs": [
    {
     "name": "stdout",
     "output_type": "stream",
     "text": [
      "Confusion Matrix:\n",
      " [[161  17]\n",
      " [ 20  70]]\n",
      "Classification Report:\n",
      "               precision    recall  f1-score   support\n",
      "\n",
      "           0       0.89      0.90      0.90       178\n",
      "           1       0.80      0.78      0.79        90\n",
      "\n",
      "    accuracy                           0.86       268\n",
      "   macro avg       0.85      0.84      0.84       268\n",
      "weighted avg       0.86      0.86      0.86       268\n",
      "\n"
     ]
    }
   ],
   "source": [
    "print(\"Confusion Matrix:\\n\",confusion_matrix(y_test, xgb_preds))\n",
    "print(\"Classification Report:\\n\", classification_report(y_test, xgb_preds))"
   ]
  },
  {
   "cell_type": "markdown",
   "id": "16a0f368",
   "metadata": {},
   "source": [
    "# Logistic Regression"
   ]
  },
  {
   "cell_type": "code",
   "execution_count": 35,
   "id": "cd68575f",
   "metadata": {},
   "outputs": [],
   "source": [
    "sc = StandardScaler()\n",
    "X_train = sc.fit_transform(X_train)\n",
    "X_test = sc.transform(X_test)"
   ]
  },
  {
   "cell_type": "code",
   "execution_count": 36,
   "id": "f0d35e0b",
   "metadata": {},
   "outputs": [],
   "source": [
    "logmodel = LogisticRegression(max_iter=200)\n",
    "logmodel.fit(X_train, y_train)\n",
    "prediction1 = logmodel.predict(X_test)"
   ]
  },
  {
   "cell_type": "code",
   "execution_count": 37,
   "id": "c05504d9",
   "metadata": {},
   "outputs": [
    {
     "name": "stdout",
     "output_type": "stream",
     "text": [
      "Confusion Matrix:\n",
      " [[149  29]\n",
      " [ 20  70]]\n",
      "\n",
      "\n",
      "Classification Report:\n",
      "               precision    recall  f1-score   support\n",
      "\n",
      "           0       0.88      0.84      0.86       178\n",
      "           1       0.71      0.78      0.74        90\n",
      "\n",
      "    accuracy                           0.82       268\n",
      "   macro avg       0.79      0.81      0.80       268\n",
      "weighted avg       0.82      0.82      0.82       268\n",
      "\n"
     ]
    }
   ],
   "source": [
    "print('Confusion Matrix:\\n', confusion_matrix(y_test, prediction1))\n",
    "print('\\n')\n",
    "print('Classification Report:\\n', classification_report(y_test, prediction1))"
   ]
  },
  {
   "cell_type": "markdown",
   "id": "4d44a192",
   "metadata": {},
   "source": [
    "# KNeighborsClassifier"
   ]
  },
  {
   "cell_type": "code",
   "execution_count": 38,
   "id": "844892f1",
   "metadata": {},
   "outputs": [],
   "source": [
    "knn = KNeighborsClassifier(n_neighbors=1)\n",
    "knn.fit(X_train, y_train)\n",
    "prediction2 = knn.predict(X_test)"
   ]
  },
  {
   "cell_type": "code",
   "execution_count": 39,
   "id": "3063e66e",
   "metadata": {},
   "outputs": [
    {
     "name": "stdout",
     "output_type": "stream",
     "text": [
      "Confusion Matrix:\n",
      " [[151  27]\n",
      " [ 20  70]]\n",
      "\n",
      "\n",
      "Classification Report:\n",
      "               precision    recall  f1-score   support\n",
      "\n",
      "           0       0.88      0.85      0.87       178\n",
      "           1       0.72      0.78      0.75        90\n",
      "\n",
      "    accuracy                           0.82       268\n",
      "   macro avg       0.80      0.81      0.81       268\n",
      "weighted avg       0.83      0.82      0.83       268\n",
      "\n"
     ]
    }
   ],
   "source": [
    "print('Confusion Matrix:\\n', confusion_matrix(y_test, prediction2))\n",
    "print('\\n')\n",
    "print('Classification Report:\\n', classification_report(y_test, prediction2))"
   ]
  },
  {
   "cell_type": "markdown",
   "id": "a7f3bb33",
   "metadata": {},
   "source": [
    "# Results"
   ]
  },
  {
   "cell_type": "code",
   "execution_count": 46,
   "id": "3226604b",
   "metadata": {},
   "outputs": [],
   "source": [
    "rfc_acc = accuracy_score(y_test, prediction3)\n",
    "SVM_acc = accuracy_score(y_test, rndm_preds)\n",
    "sgb_acc = accuracy_score(y_test, sgb_preds)\n",
    "xgb_acc = accuracy_score(y_test, xgb_preds)\n",
    "lr_acc = accuracy_score(y_test, prediction1)\n",
    "knn_acc = accuracy_score(y_test, prediction2)"
   ]
  },
  {
   "cell_type": "code",
   "execution_count": 47,
   "id": "49e4a4bb",
   "metadata": {},
   "outputs": [],
   "source": [
    "model = ['Random Forests','Support Vector Machines','Stochastic Gradient Booster','XGBoost','Logistic Regression', 'K Nearest Neighbors']\n",
    "score = [ rfc_acc, SVM_acc,sgb_acc, xgb_acc,lr_acc, knn_acc]"
   ]
  },
  {
   "cell_type": "code",
   "execution_count": 48,
   "id": "65cdd2a1",
   "metadata": {},
   "outputs": [
    {
     "data": {
      "image/png": "[encoded data removed]",
      "text/plain": [
       "<Figure size 1080x720 with 1 Axes>"
      ]
     },
     "metadata": {
      "needs_background": "light"
     },
     "output_type": "display_data"
    }
   ],
   "source": [
    "plt.figure(figsize = (15, 10))\n",
    "sns.barplot(x = score, y = model)\n",
    "plt.show()"
   ]
  },
  {
   "cell_type": "code",
   "execution_count": 52,
   "id": "42eda377",
   "metadata": {},
   "outputs": [],
   "source": [
    "predictions = rfc.predict(test_data)"
   ]
  },
  {
   "cell_type": "code",
   "execution_count": 63,
   "id": "c877c5fe",
   "metadata": {},
   "outputs": [
    {
     "data": {
      "text/plain": [
       "array([0, 0, 0, 1, 1, 0, 0, 0, 1, 0, 0, 0, 1, 0, 1, 1, 0, 0, 0, 1, 0, 1,\n",
       "       1, 0, 1, 0, 1, 0, 1, 0, 0, 0, 0, 0, 0, 1, 0, 1, 0, 1, 0, 1, 0, 1,\n",
       "       1, 0, 1, 0, 1, 1, 0, 0, 1, 1, 0, 0, 0, 0, 0, 1, 0, 0, 0, 1, 1, 1,\n",
       "       1, 0, 0, 1, 1, 0, 0, 0, 1, 0, 0, 1, 0, 1, 1, 0, 0, 0, 0, 0, 1, 0,\n",
       "       1, 1, 1, 1, 1, 0, 1, 0, 1, 0, 1, 0, 1, 0, 0, 0, 1, 0, 0, 0, 0, 0,\n",
       "       0, 1, 1, 0, 1, 0, 0, 1, 0, 1, 1, 0, 1, 0, 0, 1, 0, 1, 1, 0, 1, 1,\n",
       "       0, 0, 0, 0, 0, 0, 0, 0, 0, 1, 0, 0, 1, 0, 0, 0, 1, 0, 1, 0, 0, 1,\n",
       "       0, 0, 1, 1, 1, 1, 1, 1, 1, 0, 0, 1, 0, 0, 1, 0, 0, 0, 0, 0, 0, 1,\n",
       "       1, 0, 1, 1, 0, 0, 1, 0, 1, 0, 1, 0, 0, 1, 0, 0, 1, 0, 1, 0, 1, 0,\n",
       "       0, 0, 0, 1, 1, 1, 0, 0, 0, 0, 1, 0, 0, 0, 0, 1, 0, 0, 1, 0, 1, 0,\n",
       "       1, 0, 1, 1, 1, 0, 0, 1, 0, 0, 0, 1, 0, 0, 0, 0, 0, 0, 1, 1, 1, 1,\n",
       "       0, 0, 0, 0, 1, 0, 1, 0, 1, 0, 1, 0, 0, 0, 0, 0, 1, 0, 0, 0, 1, 1,\n",
       "       0, 0, 0, 0, 0, 0, 0, 0, 1, 1, 0, 1, 0, 0, 0, 0, 0, 1, 1, 1, 1, 0,\n",
       "       0, 0, 0, 0, 0, 0, 0, 0, 0, 0, 1, 0, 0, 0, 0, 0, 0, 0, 1, 1, 1, 1,\n",
       "       0, 0, 0, 0, 0, 0, 1, 1, 0, 0, 0, 0, 0, 0, 0, 1, 1, 0, 1, 0, 0, 0,\n",
       "       1, 1, 0, 0, 0, 0, 1, 0, 0, 1, 0, 0, 0, 1, 1, 1, 0, 1, 0, 1, 1, 0,\n",
       "       0, 0, 0, 0, 1, 0, 0, 1, 0, 1, 1, 1, 1, 0, 0, 0, 1, 0, 0, 1, 0, 1,\n",
       "       1, 1, 0, 0, 0, 0, 0, 0, 0, 1, 0, 1, 0, 0, 0, 0, 0, 1, 1, 0, 0, 1,\n",
       "       0, 1, 0, 0, 1, 0, 1, 0, 0, 0, 0, 0, 1, 1, 1, 1, 0, 0, 1, 0, 0, 1])"
      ]
     },
     "execution_count": 63,
     "metadata": {},
     "output_type": "execute_result"
    }
   ],
   "source": [
    "predictions"
   ]
  },
  {
   "cell_type": "code",
   "execution_count": 59,
   "id": "7d537131",
   "metadata": {},
   "outputs": [],
   "source": [
    "submission = pd.DataFrame({'PassengerId':main_test_data['PassengerId'],'Survived':predictions})"
   ]
  },
  {
   "cell_type": "code",
   "execution_count": 61,
   "id": "e687d5ef",
   "metadata": {},
   "outputs": [
    {
     "data": {
      "text/html": [
       "<div>\n",
       "<style scoped>\n",
       "    .dataframe tbody tr th:only-of-type {\n",
       "        vertical-align: middle;\n",
       "    }\n",
       "\n",
       "    .dataframe tbody tr th {\n",
       "        vertical-align: top;\n",
       "    }\n",
       "\n",
       "    .dataframe thead th {\n",
       "        text-align: right;\n",
       "    }\n",
       "</style>\n",
       "<table border=\"1\" class=\"dataframe\">\n",
       "  <thead>\n",
       "    <tr style=\"text-align: right;\">\n",
       "      <th></th>\n",
       "      <th>PassengerId</th>\n",
       "      <th>Survived</th>\n",
       "    </tr>\n",
       "  </thead>\n",
       "  <tbody>\n",
       "    <tr>\n",
       "      <th>0</th>\n",
       "      <td>892</td>\n",
       "      <td>0</td>\n",
       "    </tr>\n",
       "    <tr>\n",
       "      <th>1</th>\n",
       "      <td>893</td>\n",
       "      <td>0</td>\n",
       "    </tr>\n",
       "    <tr>\n",
       "      <th>2</th>\n",
       "      <td>894</td>\n",
       "      <td>0</td>\n",
       "    </tr>\n",
       "    <tr>\n",
       "      <th>3</th>\n",
       "      <td>895</td>\n",
       "      <td>1</td>\n",
       "    </tr>\n",
       "    <tr>\n",
       "      <th>4</th>\n",
       "      <td>896</td>\n",
       "      <td>1</td>\n",
       "    </tr>\n",
       "    <tr>\n",
       "      <th>...</th>\n",
       "      <td>...</td>\n",
       "      <td>...</td>\n",
       "    </tr>\n",
       "    <tr>\n",
       "      <th>413</th>\n",
       "      <td>1305</td>\n",
       "      <td>0</td>\n",
       "    </tr>\n",
       "    <tr>\n",
       "      <th>414</th>\n",
       "      <td>1306</td>\n",
       "      <td>1</td>\n",
       "    </tr>\n",
       "    <tr>\n",
       "      <th>415</th>\n",
       "      <td>1307</td>\n",
       "      <td>0</td>\n",
       "    </tr>\n",
       "    <tr>\n",
       "      <th>416</th>\n",
       "      <td>1308</td>\n",
       "      <td>0</td>\n",
       "    </tr>\n",
       "    <tr>\n",
       "      <th>417</th>\n",
       "      <td>1309</td>\n",
       "      <td>1</td>\n",
       "    </tr>\n",
       "  </tbody>\n",
       "</table>\n",
       "<p>418 rows × 2 columns</p>\n",
       "</div>"
      ],
      "text/plain": [
       "     PassengerId  Survived\n",
       "0            892         0\n",
       "1            893         0\n",
       "2            894         0\n",
       "3            895         1\n",
       "4            896         1\n",
       "..           ...       ...\n",
       "413         1305         0\n",
       "414         1306         1\n",
       "415         1307         0\n",
       "416         1308         0\n",
       "417         1309         1\n",
       "\n",
       "[418 rows x 2 columns]"
      ]
     },
     "execution_count": 61,
     "metadata": {},
     "output_type": "execute_result"
    }
   ],
   "source": [
    "submission"
   ]
  },
  {
   "cell_type": "code",
   "execution_count": 62,
   "id": "22ba1829",
   "metadata": {},
   "outputs": [],
   "source": [
    "filename = '1_titanic_prediction.csv'\n",
    "submission.to_csv(filename,index=False)"
   ]
  },
  {
   "cell_type": "markdown",
   "id": "16f95bd6",
   "metadata": {},
   "source": [
    "# References\n",
    "\n",
    "1. https://www.kaggle.com/jlawman/complete-beginner-your-first-titanic-submission\n",
    "2. https://www.kaggle.com/arunsajisamuel/titanic-eda-and-predictions-top-13"
   ]
  }
 ],
 "metadata": {
  "kernelspec": {
   "display_name": "Python 3",
   "language": "python",
   "name": "python3"
  },
  "language_info": {
   "codemirror_mode": {
    "name": "ipython",
    "version": 3
   },
   "file_extension": ".py",
   "mimetype": "text/x-python",
   "name": "python",
   "nbconvert_exporter": "python",
   "pygments_lexer": "ipython3",
   "version": "3.8.8"
  }
 },
 "nbformat": 4,
 "nbformat_minor": 5
}
